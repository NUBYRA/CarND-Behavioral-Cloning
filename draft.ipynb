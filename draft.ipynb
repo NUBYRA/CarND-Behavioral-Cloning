{
 "cells": [
  {
   "cell_type": "code",
   "execution_count": 1,
   "metadata": {},
   "outputs": [
    {
     "name": "stderr",
     "output_type": "stream",
     "text": [
      "/home/carnd/anaconda3/envs/carnd-term1/lib/python3.5/site-packages/matplotlib/font_manager.py:280: UserWarning: Matplotlib is building the font cache using fc-list. This may take a moment.\n",
      "  'Matplotlib is building the font cache using fc-list. '\n",
      "Using TensorFlow backend.\n"
     ]
    }
   ],
   "source": [
    "import cv2\n",
    "import pandas as pd\n",
    "import os\n",
    "import matplotlib.pyplot as plt\n",
    "import matplotlib.image as mpimg\n",
    "import numpy as np\n",
    "import random\n",
    "from sklearn.model_selection import train_test_split\n",
    "from keras.models import Sequential\n",
    "from keras.optimizers import Adam\n",
    "from keras.layers import Lambda, Conv2D, Flatten, Dense, Dropout, ELU\n",
    "from  keras.callbacks import ModelCheckpoint\n",
    "from keras.regularizers import l2"
   ]
  },
  {
   "cell_type": "code",
   "execution_count": 2,
   "metadata": {
    "collapsed": true
   },
   "outputs": [],
   "source": [
    "data_dir = 'data/'\n",
    "filepath = 'data/driving_log.csv'\n",
    "image_height, image_width, image_depth = 64, 64, 3\n",
    "batch_size = 64"
   ]
  },
  {
   "cell_type": "code",
   "execution_count": 3,
   "metadata": {
    "collapsed": true
   },
   "outputs": [],
   "source": [
    "def load_image(data_dir, image_path):\n",
    "    return mpimg.imread(os.path.join(data_dir,image_path.strip()))"
   ]
  },
  {
   "cell_type": "code",
   "execution_count": 4,
   "metadata": {
    "collapsed": true
   },
   "outputs": [],
   "source": [
    "def crop_image(image):\n",
    "    return image[60:-25, :, :]"
   ]
  },
  {
   "cell_type": "code",
   "execution_count": 5,
   "metadata": {
    "collapsed": true
   },
   "outputs": [],
   "source": [
    "def resize_image(image):\n",
    "    return cv2.resize(image, (image_width, image_height))"
   ]
  },
  {
   "cell_type": "code",
   "execution_count": 6,
   "metadata": {
    "collapsed": true
   },
   "outputs": [],
   "source": [
    "def image_preprocess(image):\n",
    "    img = crop_image(image)\n",
    "    img = resize_image(img)\n",
    "    return img"
   ]
  },
  {
   "cell_type": "code",
   "execution_count": 7,
   "metadata": {
    "collapsed": true
   },
   "outputs": [],
   "source": [
    "def random_image(data_dir, image_paths):\n",
    "    correction = 0.20\n",
    "    choice = np.random.choice(3)\n",
    "    if choice == 0:\n",
    "        return load_image(data_dir, image_paths['left']), image_paths['steering'] + correction\n",
    "    elif choice == 1:\n",
    "        return load_image(data_dir, image_paths['right']), image_paths['steering'] - correction\n",
    "    return load_image(data_dir, image_paths['center']), image_paths['steering']    "
   ]
  },
  {
   "cell_type": "code",
   "execution_count": 8,
   "metadata": {
    "collapsed": true
   },
   "outputs": [],
   "source": [
    "def random_flip(image, steering):\n",
    "    if np.random.rand() < .5:\n",
    "        image = cv2.flip(image, 1)\n",
    "        steering = -steering \n",
    "    return image, steering "
   ]
  },
  {
   "cell_type": "code",
   "execution_count": 9,
   "metadata": {
    "collapsed": true
   },
   "outputs": [],
   "source": [
    "def random_translation(image, steering, range_x, range_y):\n",
    "    translation_x = range_x*(np.random.uniform() - .5)\n",
    "    translation_y = range_y*(np.random.uniform() - .5)\n",
    "    steering = steering + translation_x*.002\n",
    "    Trans_M = np.float32([[1,0,translation_x],[0,1,translation_y]])\n",
    "    height, width = image.shape[:2]\n",
    "    image = cv2.warpAffine(image, Trans_M, (width, height))\n",
    "    return image, steering"
   ]
  },
  {
   "cell_type": "code",
   "execution_count": 10,
   "metadata": {
    "collapsed": true
   },
   "outputs": [],
   "source": [
    "def random_brightness(image):\n",
    "    image = cv2.cvtColor(image, cv2.COLOR_RGB2HSV)\n",
    "    random_bright = 1.0 + 0.4 * (np.random.rand() - 0.5)\n",
    "    image[:,:,2] = image[:,:,2]*random_bright \n",
    "    image[:,:,2][image[:,:,2]>255]  = 255\n",
    "    image = cv2.cvtColor(image, cv2.COLOR_HSV2RGB)\n",
    "    return image"
   ]
  },
  {
   "cell_type": "code",
   "execution_count": 11,
   "metadata": {
    "collapsed": true
   },
   "outputs": [],
   "source": [
    "def random_shadow(image):\n",
    "    brightness = 0.5\n",
    "    image = cv2.cvtColor(image, cv2.COLOR_RGB2HLS)\n",
    "    x = random.randint(0, image.shape[1])\n",
    "    y = random.randint(0, image.shape[0])\n",
    "    width = random.randint(0, image.shape[1]) * random.randint(2, 10)\n",
    "    height = random.randint(0, image.shape[0]) * random.randint(2, 10)\n",
    "    image[y:y+height,x:x+width,1] = image[y:y+height,x:x+width,1]*brightness\n",
    "    image = cv2.cvtColor(image, cv2.COLOR_HLS2RGB)\n",
    "    return image"
   ]
  },
  {
   "cell_type": "code",
   "execution_count": 12,
   "metadata": {
    "collapsed": true
   },
   "outputs": [],
   "source": [
    "def image_augmentation(data_dir, image_paths, range_x, range_y):\n",
    "    image, steering  = random_image(data_dir, image_paths)\n",
    "    image, steering = random_flip(image, steering)\n",
    "    random_translation(image, steering, range_x, range_y)\n",
    "    random_shadow(image)\n",
    "    random_brightness(image)\n",
    "    return image, steering"
   ]
  },
  {
   "cell_type": "code",
   "execution_count": 18,
   "metadata": {
    "collapsed": true
   },
   "outputs": [],
   "source": [
    "def batch_generator(data_dir, sample, batch_size, is_training):\n",
    "    images = np.empty([batch_size, image_height, image_width, image_depth])\n",
    "    steers = np.empty(batch_size)\n",
    "    while True:\n",
    "        i = 0\n",
    "        for index in np.random.permutation(sample.shape[0]):\n",
    "            image_paths = sample.loc[index]\n",
    "            steering = sample.loc[index]['steering']\n",
    "            if is_training and np.random.rand() < 0.6:\n",
    "                image, steering = image_augmentation(data_dir, image_paths, 100, 10)\n",
    "            else:\n",
    "                image = load_image(data_dir, image_paths['center']) \n",
    "            drop_prob = np.random.rand()\n",
    "            if abs(steering) < 0.05 and drop_prob > .5:\n",
    "                pass\n",
    "            else:\n",
    "                images[i] = image_preprocess(image)\n",
    "                steers[i] = steering\n",
    "                i = i + 1\n",
    "            if i == batch_size:\n",
    "                break \n",
    "        yield images, steers"
   ]
  },
  {
   "cell_type": "code",
   "execution_count": 14,
   "metadata": {
    "collapsed": true
   },
   "outputs": [],
   "source": [
    "def create_train_valid(filepath): \n",
    "    valid_size = .2\n",
    "    data = pd.read_csv(filepath)\n",
    "    X_data = data[[\"center\", \"left\", \"right\"]]\n",
    "    y_data = data['steering']\n",
    "    X_train, X_valid, y_train, y_valid = train_test_split(X_data, y_data, test_size = valid_size)\n",
    "    train = X_train.assign(steering = y_train)\n",
    "    train = train.reset_index()\n",
    "    valid = X_valid.assign(steering = y_valid)\n",
    "    valid = valid.reset_index()\n",
    "    return train, valid"
   ]
  },
  {
   "cell_type": "code",
   "execution_count": 15,
   "metadata": {
    "collapsed": true
   },
   "outputs": [],
   "source": [
    "def COMMA():\n",
    "    model = Sequential()\n",
    "    model.add(Lambda(lambda x: x/127.5-1.0, input_shape = (image_height, image_width, image_depth)))\n",
    "    model.add(Conv2D(16, (8, 8), strides=(4,4), activation='elu', padding = 'same'))\n",
    "    model.add(Conv2D(32, (5, 5), strides=(2,2), activation='elu', padding = 'same'))\n",
    "    model.add(Conv2D(64, (5, 5), strides=(2,2), activation='elu', padding = 'same'))\n",
    "    model.add(Flatten())\n",
    "    model.add(Dropout(.2))\n",
    "    model.add(ELU())\n",
    "    model.add(Dense(512, activation='elu'))\n",
    "    model.add(Dropout(.5))\n",
    "    model.add(ELU())\n",
    "    model.add(Dense(1))\n",
    "    model.summary()\n",
    "    return model"
   ]
  },
  {
   "cell_type": "code",
   "execution_count": 16,
   "metadata": {
    "collapsed": true
   },
   "outputs": [],
   "source": [
    "def train_model(data_dir, filepath, batch_size):\n",
    "    train, valid = create_train_valid(filepath)\n",
    "    model = COMMA()\n",
    "    checkpoint = ModelCheckpoint('model2.h5', monitor = 'val_loss', verbose = 0, save_best_only = True, mode='auto')\n",
    "    model.compile(loss='mean_squared_error', optimizer=Adam(lr = 1.0e-4))\n",
    "    train_generator = batch_generator(data_dir, train, batch_size, True)\n",
    "    validation_generator = batch_generator(data_dir, valid, batch_size, False)\n",
    "    model.fit_generator(train_generator, \n",
    "                    steps_per_epoch = 20000, \n",
    "                    validation_data = validation_generator,\n",
    "                    validation_steps = len(valid), \n",
    "                    epochs = 3,\n",
    "                    callbacks =[checkpoint])"
   ]
  },
  {
   "cell_type": "code",
   "execution_count": 19,
   "metadata": {},
   "outputs": [
    {
     "name": "stdout",
     "output_type": "stream",
     "text": [
      "_________________________________________________________________\n",
      "Layer (type)                 Output Shape              Param #   \n",
      "=================================================================\n",
      "lambda_2 (Lambda)            (None, 64, 64, 3)         0         \n",
      "_________________________________________________________________\n",
      "conv2d_4 (Conv2D)            (None, 16, 16, 16)        3088      \n",
      "_________________________________________________________________\n",
      "conv2d_5 (Conv2D)            (None, 8, 8, 32)          12832     \n",
      "_________________________________________________________________\n",
      "conv2d_6 (Conv2D)            (None, 4, 4, 64)          51264     \n",
      "_________________________________________________________________\n",
      "flatten_2 (Flatten)          (None, 1024)              0         \n",
      "_________________________________________________________________\n",
      "dropout_3 (Dropout)          (None, 1024)              0         \n",
      "_________________________________________________________________\n",
      "elu_3 (ELU)                  (None, 1024)              0         \n",
      "_________________________________________________________________\n",
      "dense_3 (Dense)              (None, 512)               524800    \n",
      "_________________________________________________________________\n",
      "dropout_4 (Dropout)          (None, 512)               0         \n",
      "_________________________________________________________________\n",
      "elu_4 (ELU)                  (None, 512)               0         \n",
      "_________________________________________________________________\n",
      "dense_4 (Dense)              (None, 1)                 513       \n",
      "=================================================================\n",
      "Total params: 592,497\n",
      "Trainable params: 592,497\n",
      "Non-trainable params: 0\n",
      "_________________________________________________________________\n",
      "Epoch 1/3\n",
      "20000/20000 [==============================] - 5630s - loss: 0.0164 - val_loss: 0.0133\n",
      "Epoch 2/3\n",
      "20000/20000 [==============================] - 5647s - loss: 0.0114 - val_loss: 0.0121\n",
      "Epoch 3/3\n",
      "20000/20000 [==============================] - 5559s - loss: 0.0093 - val_loss: 0.0121\n"
     ]
    }
   ],
   "source": [
    "train_model(data_dir, filepath, batch_size)"
   ]
  },
  {
   "cell_type": "code",
   "execution_count": null,
   "metadata": {
    "collapsed": true
   },
   "outputs": [],
   "source": []
  }
 ],
 "metadata": {
  "anaconda-cloud": {},
  "kernelspec": {
   "display_name": "Python 3",
   "language": "python",
   "name": "python3"
  },
  "language_info": {
   "codemirror_mode": {
    "name": "ipython",
    "version": 3
   },
   "file_extension": ".py",
   "mimetype": "text/x-python",
   "name": "python",
   "nbconvert_exporter": "python",
   "pygments_lexer": "ipython3",
   "version": "3.5.2"
  },
  "widgets": {
   "state": {},
   "version": "1.1.2"
  }
 },
 "nbformat": 4,
 "nbformat_minor": 2
}
